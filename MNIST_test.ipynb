{
 "cells": [
  {
   "cell_type": "code",
   "execution_count": 1,
   "id": "e1a756f3-c58d-4c8f-9555-ec5f721adfe2",
   "metadata": {},
   "outputs": [],
   "source": [
    "import torch\n",
    "import torch.nn as nn\n",
    "import numpy as np\n",
    "import matplotlib.pyplot as plt\n",
    "import torch.nn.modules.activation as activations\n",
    "from torchvision.datasets import MNIST\n",
    "import torchvision.transforms as transforms\n",
    "from torch.utils.data import DataLoader\n",
    "from torch.utils.data import RandomSampler"
   ]
  },
  {
   "cell_type": "code",
   "execution_count": 2,
   "id": "21246427-3231-4c9a-a774-cd6829f90438",
   "metadata": {},
   "outputs": [],
   "source": [
    "%matplotlib inline\n",
    "dataset = MNIST(root='data/',download=True)"
   ]
  },
  {
   "cell_type": "code",
   "execution_count": 3,
   "id": "c1c36e5e-3d19-4c99-bf98-6ef35be23e95",
   "metadata": {},
   "outputs": [
    {
     "data": {
      "text/plain": [
       "60000"
      ]
     },
     "execution_count": 3,
     "metadata": {},
     "output_type": "execute_result"
    }
   ],
   "source": [
    "len(dataset)"
   ]
  },
  {
   "cell_type": "code",
   "execution_count": 4,
   "id": "228d95f3-3e2a-4f42-a024-1efca6fb5828",
   "metadata": {},
   "outputs": [
    {
     "data": {
      "text/plain": [
       "(<PIL.Image.Image image mode=L size=28x28>, 5)"
      ]
     },
     "execution_count": 4,
     "metadata": {},
     "output_type": "execute_result"
    },
    {
     "data": {
      "image/png": "[encoded data removed]",
      "text/plain": [
       "<Figure size 432x288 with 1 Axes>"
      ]
     },
     "metadata": {
      "needs_background": "light"
     },
     "output_type": "display_data"
    }
   ],
   "source": [
    "im=dataset[0][0]\n",
    "plt.imshow(im,cmap='gray')\n",
    "dataset[0]"
   ]
  },
  {
   "cell_type": "code",
   "execution_count": 5,
   "id": "0a47a0df-ba85-4f04-9346-6bdb34a681b8",
   "metadata": {},
   "outputs": [],
   "source": [
    "transform = transforms.ToTensor()"
   ]
  },
  {
   "cell_type": "code",
   "execution_count": 6,
   "id": "4ade9b59-883b-43a5-a3d0-f2f93471833d",
   "metadata": {},
   "outputs": [
    {
     "data": {
      "text/plain": [
       "(60000, 10000)"
      ]
     },
     "execution_count": 6,
     "metadata": {},
     "output_type": "execute_result"
    }
   ],
   "source": [
    "Training_imgs=MNIST(root='data/',\n",
    "                    train=True,\n",
    "                    transform=transform)\n",
    "Test_imgs=MNIST(root='data/',\n",
    "                train=False,\n",
    "                transform=transform)\n",
    "(len(Training_imgs),len(Test_imgs))"
   ]
  },
  {
   "cell_type": "code",
   "execution_count": 7,
   "id": "561f676f-b71f-49b2-a207-5f68d86d82d7",
   "metadata": {},
   "outputs": [
    {
     "data": {
      "text/plain": [
       "(tensor([[[0.0000, 0.0000, 0.0000, 0.0000, 0.0000, 0.0000, 0.0000, 0.0000,\n",
       "           0.0000, 0.0000, 0.0000, 0.0000, 0.0000, 0.0000, 0.0000, 0.0000,\n",
       "           0.0000, 0.0000, 0.0000, 0.0000, 0.0000, 0.0000, 0.0000, 0.0000,\n",
       "           0.0000, 0.0000, 0.0000, 0.0000],\n",
       "          [0.0000, 0.0000, 0.0000, 0.0000, 0.0000, 0.0000, 0.0000, 0.0000,\n",
       "           0.0000, 0.0000, 0.0000, 0.0000, 0.0000, 0.0000, 0.0000, 0.0000,\n",
       "           0.0000, 0.0000, 0.0000, 0.0000, 0.0000, 0.0000, 0.0000, 0.0000,\n",
       "           0.0000, 0.0000, 0.0000, 0.0000],\n",
       "          [0.0000, 0.0000, 0.0000, 0.0000, 0.0000, 0.0000, 0.0000, 0.0000,\n",
       "           0.0000, 0.0000, 0.0000, 0.0000, 0.0000, 0.0000, 0.0000, 0.0000,\n",
       "           0.0000, 0.0000, 0.0000, 0.0000, 0.0000, 0.0000, 0.0000, 0.0000,\n",
       "           0.0000, 0.0000, 0.0000, 0.0000],\n",
       "          [0.0000, 0.0000, 0.0000, 0.0000, 0.0000, 0.0000, 0.0000, 0.0000,\n",
       "           0.0000, 0.0000, 0.0000, 0.0000, 0.0000, 0.0000, 0.0000, 0.0000,\n",
       "           0.0000, 0.0000, 0.0000, 0.0000, 0.0000, 0.0000, 0.0000, 0.0000,\n",
       "           0.0000, 0.0000, 0.0000, 0.0000],\n",
       "          [0.0000, 0.0000, 0.0000, 0.0000, 0.0000, 0.0000, 0.0000, 0.0000,\n",
       "           0.0000, 0.0000, 0.0000, 0.0000, 0.0000, 0.0000, 0.0000, 0.0000,\n",
       "           0.0000, 0.0000, 0.0000, 0.0000, 0.0000, 0.0000, 0.0000, 0.0000,\n",
       "           0.0000, 0.0000, 0.0000, 0.0000],\n",
       "          [0.0000, 0.0000, 0.0000, 0.0000, 0.0000, 0.0000, 0.0000, 0.0000,\n",
       "           0.0000, 0.0000, 0.0000, 0.0000, 0.0118, 0.0706, 0.0706, 0.0706,\n",
       "           0.4941, 0.5333, 0.6863, 0.1020, 0.6510, 1.0000, 0.9686, 0.4980,\n",
       "           0.0000, 0.0000, 0.0000, 0.0000],\n",
       "          [0.0000, 0.0000, 0.0000, 0.0000, 0.0000, 0.0000, 0.0000, 0.0000,\n",
       "           0.1176, 0.1412, 0.3686, 0.6039, 0.6667, 0.9922, 0.9922, 0.9922,\n",
       "           0.9922, 0.9922, 0.8824, 0.6745, 0.9922, 0.9490, 0.7647, 0.2510,\n",
       "           0.0000, 0.0000, 0.0000, 0.0000],\n",
       "          [0.0000, 0.0000, 0.0000, 0.0000, 0.0000, 0.0000, 0.0000, 0.1922,\n",
       "           0.9333, 0.9922, 0.9922, 0.9922, 0.9922, 0.9922, 0.9922, 0.9922,\n",
       "           0.9922, 0.9843, 0.3647, 0.3216, 0.3216, 0.2196, 0.1529, 0.0000,\n",
       "           0.0000, 0.0000, 0.0000, 0.0000],\n",
       "          [0.0000, 0.0000, 0.0000, 0.0000, 0.0000, 0.0000, 0.0000, 0.0706,\n",
       "           0.8588, 0.9922, 0.9922, 0.9922, 0.9922, 0.9922, 0.7765, 0.7137,\n",
       "           0.9686, 0.9451, 0.0000, 0.0000, 0.0000, 0.0000, 0.0000, 0.0000,\n",
       "           0.0000, 0.0000, 0.0000, 0.0000],\n",
       "          [0.0000, 0.0000, 0.0000, 0.0000, 0.0000, 0.0000, 0.0000, 0.0000,\n",
       "           0.3137, 0.6118, 0.4196, 0.9922, 0.9922, 0.8039, 0.0431, 0.0000,\n",
       "           0.1686, 0.6039, 0.0000, 0.0000, 0.0000, 0.0000, 0.0000, 0.0000,\n",
       "           0.0000, 0.0000, 0.0000, 0.0000],\n",
       "          [0.0000, 0.0000, 0.0000, 0.0000, 0.0000, 0.0000, 0.0000, 0.0000,\n",
       "           0.0000, 0.0549, 0.0039, 0.6039, 0.9922, 0.3529, 0.0000, 0.0000,\n",
       "           0.0000, 0.0000, 0.0000, 0.0000, 0.0000, 0.0000, 0.0000, 0.0000,\n",
       "           0.0000, 0.0000, 0.0000, 0.0000],\n",
       "          [0.0000, 0.0000, 0.0000, 0.0000, 0.0000, 0.0000, 0.0000, 0.0000,\n",
       "           0.0000, 0.0000, 0.0000, 0.5451, 0.9922, 0.7451, 0.0078, 0.0000,\n",
       "           0.0000, 0.0000, 0.0000, 0.0000, 0.0000, 0.0000, 0.0000, 0.0000,\n",
       "           0.0000, 0.0000, 0.0000, 0.0000],\n",
       "          [0.0000, 0.0000, 0.0000, 0.0000, 0.0000, 0.0000, 0.0000, 0.0000,\n",
       "           0.0000, 0.0000, 0.0000, 0.0431, 0.7451, 0.9922, 0.2745, 0.0000,\n",
       "           0.0000, 0.0000, 0.0000, 0.0000, 0.0000, 0.0000, 0.0000, 0.0000,\n",
       "           0.0000, 0.0000, 0.0000, 0.0000],\n",
       "          [0.0000, 0.0000, 0.0000, 0.0000, 0.0000, 0.0000, 0.0000, 0.0000,\n",
       "           0.0000, 0.0000, 0.0000, 0.0000, 0.1373, 0.9451, 0.8824, 0.6275,\n",
       "           0.4235, 0.0039, 0.0000, 0.0000, 0.0000, 0.0000, 0.0000, 0.0000,\n",
       "           0.0000, 0.0000, 0.0000, 0.0000],\n",
       "          [0.0000, 0.0000, 0.0000, 0.0000, 0.0000, 0.0000, 0.0000, 0.0000,\n",
       "           0.0000, 0.0000, 0.0000, 0.0000, 0.0000, 0.3176, 0.9412, 0.9922,\n",
       "           0.9922, 0.4667, 0.0980, 0.0000, 0.0000, 0.0000, 0.0000, 0.0000,\n",
       "           0.0000, 0.0000, 0.0000, 0.0000],\n",
       "          [0.0000, 0.0000, 0.0000, 0.0000, 0.0000, 0.0000, 0.0000, 0.0000,\n",
       "           0.0000, 0.0000, 0.0000, 0.0000, 0.0000, 0.0000, 0.1765, 0.7294,\n",
       "           0.9922, 0.9922, 0.5882, 0.1059, 0.0000, 0.0000, 0.0000, 0.0000,\n",
       "           0.0000, 0.0000, 0.0000, 0.0000],\n",
       "          [0.0000, 0.0000, 0.0000, 0.0000, 0.0000, 0.0000, 0.0000, 0.0000,\n",
       "           0.0000, 0.0000, 0.0000, 0.0000, 0.0000, 0.0000, 0.0000, 0.0627,\n",
       "           0.3647, 0.9882, 0.9922, 0.7333, 0.0000, 0.0000, 0.0000, 0.0000,\n",
       "           0.0000, 0.0000, 0.0000, 0.0000],\n",
       "          [0.0000, 0.0000, 0.0000, 0.0000, 0.0000, 0.0000, 0.0000, 0.0000,\n",
       "           0.0000, 0.0000, 0.0000, 0.0000, 0.0000, 0.0000, 0.0000, 0.0000,\n",
       "           0.0000, 0.9765, 0.9922, 0.9765, 0.2510, 0.0000, 0.0000, 0.0000,\n",
       "           0.0000, 0.0000, 0.0000, 0.0000],\n",
       "          [0.0000, 0.0000, 0.0000, 0.0000, 0.0000, 0.0000, 0.0000, 0.0000,\n",
       "           0.0000, 0.0000, 0.0000, 0.0000, 0.0000, 0.0000, 0.1804, 0.5098,\n",
       "           0.7176, 0.9922, 0.9922, 0.8118, 0.0078, 0.0000, 0.0000, 0.0000,\n",
       "           0.0000, 0.0000, 0.0000, 0.0000],\n",
       "          [0.0000, 0.0000, 0.0000, 0.0000, 0.0000, 0.0000, 0.0000, 0.0000,\n",
       "           0.0000, 0.0000, 0.0000, 0.0000, 0.1529, 0.5804, 0.8980, 0.9922,\n",
       "           0.9922, 0.9922, 0.9804, 0.7137, 0.0000, 0.0000, 0.0000, 0.0000,\n",
       "           0.0000, 0.0000, 0.0000, 0.0000],\n",
       "          [0.0000, 0.0000, 0.0000, 0.0000, 0.0000, 0.0000, 0.0000, 0.0000,\n",
       "           0.0000, 0.0000, 0.0941, 0.4471, 0.8667, 0.9922, 0.9922, 0.9922,\n",
       "           0.9922, 0.7882, 0.3059, 0.0000, 0.0000, 0.0000, 0.0000, 0.0000,\n",
       "           0.0000, 0.0000, 0.0000, 0.0000],\n",
       "          [0.0000, 0.0000, 0.0000, 0.0000, 0.0000, 0.0000, 0.0000, 0.0000,\n",
       "           0.0902, 0.2588, 0.8353, 0.9922, 0.9922, 0.9922, 0.9922, 0.7765,\n",
       "           0.3176, 0.0078, 0.0000, 0.0000, 0.0000, 0.0000, 0.0000, 0.0000,\n",
       "           0.0000, 0.0000, 0.0000, 0.0000],\n",
       "          [0.0000, 0.0000, 0.0000, 0.0000, 0.0000, 0.0000, 0.0706, 0.6706,\n",
       "           0.8588, 0.9922, 0.9922, 0.9922, 0.9922, 0.7647, 0.3137, 0.0353,\n",
       "           0.0000, 0.0000, 0.0000, 0.0000, 0.0000, 0.0000, 0.0000, 0.0000,\n",
       "           0.0000, 0.0000, 0.0000, 0.0000],\n",
       "          [0.0000, 0.0000, 0.0000, 0.0000, 0.2157, 0.6745, 0.8863, 0.9922,\n",
       "           0.9922, 0.9922, 0.9922, 0.9569, 0.5216, 0.0431, 0.0000, 0.0000,\n",
       "           0.0000, 0.0000, 0.0000, 0.0000, 0.0000, 0.0000, 0.0000, 0.0000,\n",
       "           0.0000, 0.0000, 0.0000, 0.0000],\n",
       "          [0.0000, 0.0000, 0.0000, 0.0000, 0.5333, 0.9922, 0.9922, 0.9922,\n",
       "           0.8314, 0.5294, 0.5176, 0.0627, 0.0000, 0.0000, 0.0000, 0.0000,\n",
       "           0.0000, 0.0000, 0.0000, 0.0000, 0.0000, 0.0000, 0.0000, 0.0000,\n",
       "           0.0000, 0.0000, 0.0000, 0.0000],\n",
       "          [0.0000, 0.0000, 0.0000, 0.0000, 0.0000, 0.0000, 0.0000, 0.0000,\n",
       "           0.0000, 0.0000, 0.0000, 0.0000, 0.0000, 0.0000, 0.0000, 0.0000,\n",
       "           0.0000, 0.0000, 0.0000, 0.0000, 0.0000, 0.0000, 0.0000, 0.0000,\n",
       "           0.0000, 0.0000, 0.0000, 0.0000],\n",
       "          [0.0000, 0.0000, 0.0000, 0.0000, 0.0000, 0.0000, 0.0000, 0.0000,\n",
       "           0.0000, 0.0000, 0.0000, 0.0000, 0.0000, 0.0000, 0.0000, 0.0000,\n",
       "           0.0000, 0.0000, 0.0000, 0.0000, 0.0000, 0.0000, 0.0000, 0.0000,\n",
       "           0.0000, 0.0000, 0.0000, 0.0000],\n",
       "          [0.0000, 0.0000, 0.0000, 0.0000, 0.0000, 0.0000, 0.0000, 0.0000,\n",
       "           0.0000, 0.0000, 0.0000, 0.0000, 0.0000, 0.0000, 0.0000, 0.0000,\n",
       "           0.0000, 0.0000, 0.0000, 0.0000, 0.0000, 0.0000, 0.0000, 0.0000,\n",
       "           0.0000, 0.0000, 0.0000, 0.0000]]]),\n",
       " 5)"
      ]
     },
     "execution_count": 7,
     "metadata": {},
     "output_type": "execute_result"
    }
   ],
   "source": [
    "Training_imgs[0]"
   ]
  },
  {
   "cell_type": "code",
   "execution_count": 8,
   "id": "8ea0dc14-2822-4d4b-b1a4-c589f1b0c344",
   "metadata": {},
   "outputs": [
    {
     "data": {
      "text/plain": [
       "torch.Size([1, 28, 28])"
      ]
     },
     "execution_count": 8,
     "metadata": {},
     "output_type": "execute_result"
    }
   ],
   "source": [
    "Training_imgs[0][0].shape"
   ]
  },
  {
   "cell_type": "code",
   "execution_count": 9,
   "id": "8b76ff3f-93a4-4315-ac5c-5a8eddcc8993",
   "metadata": {},
   "outputs": [],
   "source": [
    "class ConvNet(nn.Module):\n",
    "    def __init__(self):\n",
    "        super().__init__()\n",
    "        self.conv_layer=nn.Conv2d(in_channels=1,out_channels=5,kernel_size=5,stride=1,bias=True)\n",
    "        self.pooling_layer=nn.MaxPool2d(kernel_size=2,stride=2)\n",
    "        self.fully_connected_layer=nn.Linear(720,10)\n",
    "        self.act1=nn.modules.activation.Tanh()\n",
    "        self.act2=nn.modules.activation.Softmax(dim=1)\n",
    "    \n",
    "    def forward(self,inputs):\n",
    "        conv=self.conv_layer(inputs)\n",
    "        conv_a=self.act1(conv)\n",
    "        pooled_a=self.pooling_layer(conv_a)\n",
    "        reduced_dim_pooled=pooled_a.reshape(-1,720)\n",
    "        lin_out=self.fully_connected_layer(reduced_dim_pooled)\n",
    "        outs=self.act2(lin_out)\n",
    "        return outs\n",
    "    "
   ]
  },
  {
   "cell_type": "code",
   "execution_count": 9,
   "id": "a649cdc6-8cd1-4958-a06c-9d3b2d428ee8",
   "metadata": {},
   "outputs": [],
   "source": [
    "class SimpleNet(nn.Module):\n",
    "    def __init__(self):\n",
    "        super().__init__()\n",
    "        self.lin1=nn.Linear(784,30)\n",
    "        self.lin2=nn.Linear(30,10)\n",
    "        self.act=nn.modules.activation.Sigmoid()\n",
    "    \n",
    "    def forward(self,inputs):\n",
    "        z1=self.lin1(inputs.reshape(-1,784))\n",
    "        a1=self.act(z1)\n",
    "        z2=self.lin2(a1)\n",
    "        a2=self.act(z2)\n",
    "        return a2"
   ]
  },
  {
   "cell_type": "code",
   "execution_count": 89,
   "id": "636badf8-6729-45b4-8fff-fbdc0a276643",
   "metadata": {},
   "outputs": [],
   "source": [
    "class BiggerConvNet(nn.Module):\n",
    "    def __init__(self):\n",
    "        super().__init__()\n",
    "        self.conv_layer=nn.Conv2d(in_channels=1,out_channels=20,kernel_size=5,stride=1,bias=True)\n",
    "        self.pooling_layer=nn.MaxPool2d(kernel_size=2,stride=2)\n",
    "        self.fully_connected_layer=nn.Linear(2880,100)\n",
    "        self.fully_connected_layer2=nn.Linear(100,10)\n",
    "        self.act1=nn.modules.activation.Tanh()\n",
    "        self.act2=nn.modules.activation.Softmax(dim=1)\n",
    "    \n",
    "    def forward(self,inputs):\n",
    "        conv=self.conv_layer(inputs)\n",
    "        conv_a=self.act1(conv)\n",
    "        pooled_a=self.pooling_layer(conv_a)\n",
    "        reduced_dim_pooled=pooled_a.reshape(-1,2880)\n",
    "        lin_out1=self.fully_connected_layer(reduced_dim_pooled)\n",
    "        outs1=self.act1(lin_out1)\n",
    "        lin_out2=self.fully_connected_layer2(outs1)\n",
    "        outs2=self.act2(lin_out2)\n",
    "        return outs2\n",
    "    "
   ]
  },
  {
   "cell_type": "code",
   "execution_count": 10,
   "id": "a5db7449-5e23-4698-96f3-b2040ba715f4",
   "metadata": {},
   "outputs": [],
   "source": [
    "def SplitTestset():\n",
    "    n=60000\n",
    "    perm_arr=np.random.permutation(n)\n",
    "    n_test=50000\n",
    "    return perm_arr[:n_test],perm_arr[n_test:]"
   ]
  },
  {
   "cell_type": "code",
   "execution_count": 11,
   "id": "0ad10e50-4f51-45be-9e56-9eabd9b40432",
   "metadata": {},
   "outputs": [],
   "source": [
    "def accuracy(predictions,labels):\n",
    "    return (torch.sum(predictions==labels).item())"
   ]
  },
  {
   "cell_type": "code",
   "execution_count": 12,
   "id": "8d7d3339-6d00-4081-8fa7-34c2ce6273d4",
   "metadata": {},
   "outputs": [],
   "source": [
    "train_indicies,validation_indicies=SplitTestset()"
   ]
  },
  {
   "cell_type": "code",
   "execution_count": 13,
   "id": "72d519da-5942-4f9b-9519-63073fdf5fae",
   "metadata": {},
   "outputs": [],
   "source": [
    "sampler=RandomSampler(train_indicies) #Randomly sample a mini_batch from the training indices(used during training)"
   ]
  },
  {
   "cell_type": "code",
   "execution_count": 90,
   "id": "b4825997-9909-4c9f-a3c9-4c59453ea0c2",
   "metadata": {},
   "outputs": [
    {
     "name": "stdout",
     "output_type": "stream",
     "text": [
      "classification accuracy after epoch 0 is :9637/10000\n",
      "classification accuracy after epoch 1 is :9775/10000\n",
      "classification accuracy after epoch 2 is :9818/10000\n",
      "classification accuracy after epoch 3 is :9843/10000\n",
      "classification accuracy after epoch 4 is :9892/10000\n",
      "classification accuracy after epoch 5 is :9902/10000\n",
      "classification accuracy after epoch 6 is :9928/10000\n",
      "classification accuracy after epoch 7 is :9938/10000\n",
      "classification accuracy after epoch 8 is :9952/10000\n",
      "classification accuracy after epoch 9 is :9957/10000\n",
      "classification accuracy after epoch 10 is :9962/10000\n",
      "classification accuracy after epoch 11 is :9963/10000\n",
      "classification accuracy after epoch 12 is :9963/10000\n",
      "classification accuracy after epoch 13 is :9963/10000\n",
      "classification accuracy after epoch 14 is :9964/10000\n"
     ]
    }
   ],
   "source": [
    "model=BiggerConvNet()\n",
    "loss=nn.CrossEntropyLoss()\n",
    "num_epochs=15\n",
    "for epoch in range(num_epochs):\n",
    "    optimizer=torch.optim.SGD(params=model.parameters(),lr=0.5*(1.01-epoch/num_epochs),weight_decay=0.00001)\n",
    "    dataloader=DataLoader(dataset=Training_imgs,batch_size=10,sampler=sampler)\n",
    "    for Train_imgs,targets in dataloader:\n",
    "        outs=model(Train_imgs)\n",
    "        l=loss(outs,targets)\n",
    "        l.backward()\n",
    "        optimizer.step()\n",
    "        optimizer.zero_grad()\n",
    "    #Printing out the models accuracy on the validation set.\n",
    "    with torch.no_grad():\n",
    "        valid_set=DataLoader(dataset=Training_imgs,batch_size=10000,sampler=RandomSampler(validation_indicies))\n",
    "        Imgs,Targets=valid_set.__iter__().__next__()\n",
    "        out=model(Imgs)\n",
    "        pred_labels=out.max(dim=1)[1]\n",
    "        a=accuracy(pred_labels,Targets)\n",
    "        print(f'classification accuracy after epoch {epoch} is :{a}/{10000}')"
   ]
  },
  {
   "cell_type": "code",
   "execution_count": 14,
   "id": "a87bcb9f-3ddf-40e6-894a-9e581e11a642",
   "metadata": {},
   "outputs": [
    {
     "ename": "NameError",
     "evalue": "name 'model' is not defined",
     "output_type": "error",
     "traceback": [
      "\u001b[0;31m---------------------------------------------------------------------------\u001b[0m",
      "\u001b[0;31mNameError\u001b[0m                                 Traceback (most recent call last)",
      "Input \u001b[0;32mIn [14]\u001b[0m, in \u001b[0;36m<cell line: 1>\u001b[0;34m()\u001b[0m\n\u001b[0;32m----> 1\u001b[0m model_dict\u001b[38;5;241m=\u001b[39m\u001b[43mmodel\u001b[49m\u001b[38;5;241m.\u001b[39mstate_dict()\n",
      "\u001b[0;31mNameError\u001b[0m: name 'model' is not defined"
     ]
    }
   ],
   "source": [
    "model_dict=model.state_dict()"
   ]
  },
  {
   "cell_type": "code",
   "execution_count": 93,
   "id": "d819db7e-68d3-4c71-afb7-52a8cd0c95e2",
   "metadata": {},
   "outputs": [
    {
     "data": {
      "text/plain": [
       "OrderedDict([('conv_layer.weight',\n",
       "              tensor([[[[-3.8818e-01,  9.6657e-02,  4.5614e-01, -7.4214e-02, -1.9730e-01],\n",
       "                        [ 1.8880e-01,  4.2497e-01,  4.0082e-02, -3.9752e-01, -1.8695e-01],\n",
       "                        [ 6.2414e-01, -1.6558e-01, -8.5579e-01, -2.3317e-01,  1.8371e-01],\n",
       "                        [-2.0461e-01, -6.3619e-01, -3.0704e-01,  5.8716e-01,  2.9673e-01],\n",
       "                        [-4.1319e-01,  1.5753e-01,  4.8117e-01,  1.8852e-01, -4.7540e-01]]],\n",
       "              \n",
       "              \n",
       "                      [[[ 2.9899e-02, -3.1399e-01, -4.1531e-01, -1.7844e-02,  8.7010e-02],\n",
       "                        [-4.8543e-01, -2.4678e-01,  4.2316e-01,  6.7473e-01,  2.8887e-01],\n",
       "                        [ 1.9144e-01,  7.3564e-01,  5.4171e-01, -3.0111e-01, -4.6389e-01],\n",
       "                        [ 3.3517e-01,  1.5967e-01, -5.2137e-01, -9.6654e-01, -6.2535e-01],\n",
       "                        [-3.6619e-01, -4.0820e-01, -3.7081e-01,  4.4660e-01,  7.8694e-01]]],\n",
       "              \n",
       "              \n",
       "                      [[[-8.3581e-02, -2.9022e-01, -4.7939e-01, -1.9651e-01,  9.4788e-01],\n",
       "                        [ 1.5728e-01,  5.2985e-02, -6.6767e-01, -1.0950e+00, -1.3524e-01],\n",
       "                        [ 1.2849e-01,  5.9124e-01, -2.9830e-02, -6.6381e-01, -3.9356e-01],\n",
       "                        [ 7.4195e-02,  5.1459e-01,  4.5218e-01, -1.1801e-01, -3.2401e-01],\n",
       "                        [-2.2306e-01,  9.3521e-02,  3.4792e-01,  1.6611e-01, -5.2314e-02]]],\n",
       "              \n",
       "              \n",
       "                      [[[ 2.5141e-01,  5.0294e-01,  4.5734e-01,  5.6835e-01,  4.6512e-01],\n",
       "                        [-8.1636e-01, -2.9661e-01, -2.1951e-01, -1.1257e-01, -2.5591e-01],\n",
       "                        [-7.2954e-01, -9.1346e-01, -1.0645e+00, -1.0147e+00, -7.2102e-01],\n",
       "                        [ 2.3479e-01,  1.6945e-02, -1.2929e-01, -2.4272e-01, -3.8165e-01],\n",
       "                        [ 4.4144e-02,  1.9473e-01,  2.6112e-01,  4.6630e-01,  8.6079e-02]]],\n",
       "              \n",
       "              \n",
       "                      [[[ 3.8910e-01, -2.6867e-01, -9.1742e-01, -8.5377e-01, -5.5954e-01],\n",
       "                        [-4.3156e-01, -2.1125e-01,  2.5403e-02,  1.2992e-01, -1.3586e-02],\n",
       "                        [-5.2593e-02,  2.2438e-01,  5.1642e-01,  5.9215e-01,  2.3949e-01],\n",
       "                        [ 2.3226e-02,  1.5485e-01,  3.9634e-01,  3.6070e-01,  4.5269e-01],\n",
       "                        [-4.9182e-02, -5.9839e-03,  1.4355e-01, -3.5198e-01, -5.7466e-01]]],\n",
       "              \n",
       "              \n",
       "                      [[[ 2.8617e-02, -2.7416e-01, -3.5177e-01, -6.8996e-01,  3.3737e-01],\n",
       "                        [ 2.0560e-01,  5.6754e-01, -1.8446e-01, -8.1358e-01, -1.3193e-01],\n",
       "                        [-1.1661e-01,  7.9331e-01,  4.2976e-01, -5.4711e-01, -3.6599e-01],\n",
       "                        [-4.1868e-01,  3.0621e-01,  4.9943e-01, -7.4029e-02, -4.2904e-01],\n",
       "                        [-2.7410e-01, -1.1212e-01,  1.6929e-01,  1.9547e-01, -3.1173e-01]]],\n",
       "              \n",
       "              \n",
       "                      [[[ 5.4666e-01, -5.1474e-01, -4.8298e-01, -1.3900e-01,  1.8041e-01],\n",
       "                        [-5.1993e-01, -3.7174e-01,  3.0478e-02,  5.3080e-01,  2.5854e-02],\n",
       "                        [-5.0454e-01,  1.3171e-01,  5.6362e-01,  4.1053e-01, -2.9042e-01],\n",
       "                        [ 1.6385e-01,  7.5823e-01,  5.9136e-01, -2.8965e-01, -5.7213e-01],\n",
       "                        [ 1.3537e-02, -2.1991e-01, -7.0031e-01, -6.9364e-01,  1.3731e-01]]],\n",
       "              \n",
       "              \n",
       "                      [[[ 1.1843e-01,  9.7900e-02,  1.7584e-01,  4.1737e-01,  3.2165e-01],\n",
       "                        [ 5.8028e-01,  4.2612e-01,  4.4674e-01,  2.3441e-01,  1.8926e-01],\n",
       "                        [-6.6944e-02,  1.4784e-01,  8.3246e-03, -4.2825e-01, -6.4689e-01],\n",
       "                        [-8.5545e-01, -8.7015e-01, -1.3119e+00, -9.8394e-01, -7.8839e-01],\n",
       "                        [ 1.0751e-03, -1.5286e-01,  1.5474e-02,  3.7872e-01,  3.1940e-01]]],\n",
       "              \n",
       "              \n",
       "                      [[[ 3.4812e-01,  4.9656e-01,  2.3586e-01,  2.2491e-01,  2.8219e-01],\n",
       "                        [-1.8464e-01,  5.5828e-01,  5.5794e-01,  4.3088e-01,  6.1974e-01],\n",
       "                        [-6.9131e-01,  3.0825e-02,  2.0183e-01,  2.0081e-01,  6.6909e-02],\n",
       "                        [-1.3255e+00, -1.0484e+00, -1.0649e+00, -9.2611e-01, -9.3663e-01],\n",
       "                        [-5.0556e-01, -8.3429e-01, -1.1823e+00, -7.8721e-01, -9.5711e-01]]],\n",
       "              \n",
       "              \n",
       "                      [[[-5.3204e-02,  3.0123e-01,  4.7379e-01,  2.9956e-01,  2.7721e-01],\n",
       "                        [-7.1972e-01, -2.4455e-01,  2.7291e-01,  4.6479e-01,  7.7407e-01],\n",
       "                        [-1.0333e+00, -8.9263e-01, -5.4130e-01, -1.4203e-01,  4.4948e-01],\n",
       "                        [-4.5867e-01, -1.4233e+00, -1.4922e+00, -1.0522e+00, -7.9922e-02],\n",
       "                        [ 1.0427e+00,  5.3295e-01, -1.6832e-01, -4.5767e-01, -7.9072e-01]]],\n",
       "              \n",
       "              \n",
       "                      [[[-4.0467e-02, -3.1794e-01, -3.9179e-01, -1.9550e-01,  2.3795e-01],\n",
       "                        [ 3.0690e-01,  2.0054e-01, -2.2451e-01, -5.6656e-01, -5.9324e-01],\n",
       "                        [ 2.0367e-01,  6.4190e-01,  3.7984e-01,  3.1866e-01,  4.6570e-03],\n",
       "                        [-5.2697e-01,  1.5516e-01,  2.6412e-01,  3.7877e-01,  1.3171e-01],\n",
       "                        [-3.5274e-01, -2.6477e-01, -2.7791e-01, -1.1704e-01, -3.9923e-02]]],\n",
       "              \n",
       "              \n",
       "                      [[[-2.7931e-01,  1.0954e-01,  5.5099e-02, -2.4613e-01, -1.5120e-01],\n",
       "                        [ 5.0267e-02,  1.8061e-01, -2.1285e-02, -4.6971e-01,  1.9300e-01],\n",
       "                        [-1.3112e-02,  4.1202e-01, -3.0514e-01, -2.9282e-01,  4.8839e-01],\n",
       "                        [ 8.0125e-02, -1.6555e-01, -5.0848e-01,  1.6073e-01,  2.7721e-01],\n",
       "                        [ 5.1064e-01, -2.9049e-01, -4.3033e-01, -7.4338e-02, -4.6145e-02]]],\n",
       "              \n",
       "              \n",
       "                      [[[-1.2489e-01,  7.2445e-01,  1.0682e+00,  8.0228e-01,  1.3356e-01],\n",
       "                        [-1.9056e-01, -3.3756e-01, -2.6572e-01, -4.9442e-01, -5.3347e-01],\n",
       "                        [-5.3779e-01, -1.5052e+00, -1.6641e+00, -9.6241e-01, -3.9701e-01],\n",
       "                        [-2.6037e-01, -6.1191e-02,  3.1862e-01,  3.0105e-01,  1.8025e-01],\n",
       "                        [ 5.5494e-01,  9.4876e-01,  7.9895e-01,  5.1700e-02, -2.5495e-01]]],\n",
       "              \n",
       "              \n",
       "                      [[[ 6.3352e-01,  3.9129e-01,  9.9675e-02, -2.7553e-01, -6.0908e-01],\n",
       "                        [-3.1014e-02, -5.9217e-01, -9.2149e-01, -8.7106e-01, -7.6922e-01],\n",
       "                        [-6.0903e-01, -8.8134e-01, -7.1484e-01, -2.1367e-01,  4.1040e-02],\n",
       "                        [-1.0098e+00, -5.1176e-01, -2.4620e-02, -4.3082e-02,  3.0029e-01],\n",
       "                        [-2.3858e-01, -2.2985e-02,  2.7757e-01,  2.7239e-01,  4.9187e-01]]],\n",
       "              \n",
       "              \n",
       "                      [[[ 1.0277e-01, -7.5770e-02, -1.1003e-01,  1.1810e-01,  1.5269e-01],\n",
       "                        [-6.7606e-03, -6.9737e-01, -9.8330e-01, -3.6743e-01,  3.5731e-02],\n",
       "                        [ 1.2293e-01,  8.5874e-02,  7.1389e-02,  1.2618e-01, -1.3371e-01],\n",
       "                        [ 6.4012e-02,  5.8327e-01,  6.0366e-01,  1.3111e-01, -3.3719e-01],\n",
       "                        [-7.6209e-02,  3.5057e-02, -1.4355e-02, -2.1741e-01,  1.4068e-01]]],\n",
       "              \n",
       "              \n",
       "                      [[[ 6.2225e-01, -2.1619e-01, -9.0662e-01, -6.2106e-01,  1.8798e-01],\n",
       "                        [ 1.1795e+00, -7.6981e-01, -1.2986e+00,  8.0116e-03,  7.8795e-01],\n",
       "                        [ 3.3418e-01, -1.4329e+00, -7.5918e-01,  1.2383e-01,  6.7483e-01],\n",
       "                        [-2.7702e-01, -1.0701e+00, -1.5540e-01,  2.7129e-01,  5.3293e-01],\n",
       "                        [-6.8021e-01, -4.1046e-01, -6.6509e-02,  5.4727e-02,  1.9387e-01]]],\n",
       "              \n",
       "              \n",
       "                      [[[ 3.0790e-01,  2.2377e-01, -2.6635e-01, -1.1079e+00, -1.0611e+00],\n",
       "                        [ 6.4139e-01,  3.1373e-01, -2.5193e-01, -1.5254e+00, -1.0914e-01],\n",
       "                        [ 5.6249e-01,  2.1946e-01, -8.4361e-01, -1.6461e+00,  6.6744e-01],\n",
       "                        [ 4.1558e-01, -3.1446e-02, -1.1718e+00, -1.0098e+00,  8.6435e-01],\n",
       "                        [-2.4794e-02, -4.9967e-01, -1.3534e+00, -8.6000e-01,  5.5872e-01]]],\n",
       "              \n",
       "              \n",
       "                      [[[ 5.7995e-02, -2.5666e-02, -9.4334e-02, -2.0336e-01, -1.4059e-01],\n",
       "                        [-4.1845e-02,  9.6736e-02,  3.3450e-01,  1.6871e-01,  7.8175e-02],\n",
       "                        [-1.0373e-01, -1.0780e-03,  3.1960e-01, -1.3249e-01, -1.6747e-01],\n",
       "                        [-4.5785e-01, -8.5845e-02,  3.2273e-01, -7.7868e-02,  1.8191e-01],\n",
       "                        [-3.4047e-01, -4.1478e-01, -6.6555e-02,  1.8633e-01, -2.1991e-02]]],\n",
       "              \n",
       "              \n",
       "                      [[[-5.0161e-01, -5.8300e-01, -7.0321e-01, -6.4293e-01, -6.9443e-01],\n",
       "                        [-1.2669e+00, -8.1018e-01, -6.4256e-01, -5.6732e-01, -5.6205e-01],\n",
       "                        [-4.0610e-01,  1.7458e-02,  1.4782e-01,  2.9532e-01,  1.7733e-01],\n",
       "                        [ 3.6957e-01,  4.3303e-01,  3.2010e-01,  4.0545e-01,  4.4821e-01],\n",
       "                        [ 7.0666e-01,  4.8275e-01,  4.0746e-01,  1.5520e-01, -1.8356e-01]]],\n",
       "              \n",
       "              \n",
       "                      [[[-4.8138e-01, -3.8754e-01, -2.5143e-01,  2.4885e-01,  5.0006e-01],\n",
       "                        [-2.7524e-02,  3.4345e-01,  5.5937e-01,  6.3568e-01,  3.3898e-01],\n",
       "                        [ 3.5240e-01,  5.1788e-01,  5.6909e-01,  1.0041e-01, -3.3001e-01],\n",
       "                        [ 2.7568e-01,  3.0367e-01, -7.7013e-02, -5.3716e-01, -6.5843e-01],\n",
       "                        [-6.5008e-01, -8.2464e-01, -8.9528e-01, -4.1706e-01,  1.0022e-01]]]])),\n",
       "             ('conv_layer.bias',\n",
       "              tensor([-0.0932, -0.1971, -0.1317, -0.0211, -0.2284,  0.0230, -0.1002, -0.1517,\n",
       "                      -0.1039, -0.0059, -0.0702, -0.0687, -0.3085,  0.1269, -0.1712, -0.2222,\n",
       "                       0.0126, -0.0300, -0.2164, -0.1794])),\n",
       "             ('fully_connected_layer.weight',\n",
       "              tensor([[ 0.0083, -0.0021, -0.0147,  ...,  0.0371,  0.0056,  0.0024],\n",
       "                      [ 0.0129,  0.0002,  0.0135,  ...,  0.0244, -0.0083,  0.0186],\n",
       "                      [ 0.0243,  0.0287,  0.0128,  ...,  0.0733,  0.0674,  0.0416],\n",
       "                      ...,\n",
       "                      [-0.0006, -0.0166,  0.0053,  ...,  0.0129,  0.0115,  0.0033],\n",
       "                      [-0.0048, -0.0035, -0.0099,  ...,  0.0124,  0.0158,  0.0097],\n",
       "                      [-0.0107,  0.0191,  0.0073,  ..., -0.0063,  0.0051,  0.0122]])),\n",
       "             ('fully_connected_layer.bias',\n",
       "              tensor([-0.0205, -0.0170, -0.0847, -0.1088,  0.0849,  0.2173,  0.0013,  0.1075,\n",
       "                      -0.1200,  0.0027,  0.0046,  0.1476,  0.1141, -0.0400, -0.0149, -0.0768,\n",
       "                       0.0706, -0.0257,  0.0045, -0.0877,  0.0092, -0.0352, -0.0145, -0.1308,\n",
       "                       0.1619,  0.0431,  0.0648, -0.0362,  0.0764, -0.0284, -0.0929, -0.0545,\n",
       "                      -0.0537,  0.0768,  0.0517,  0.0602,  0.0351, -0.0656, -0.0601, -0.0992,\n",
       "                      -0.0349,  0.0312,  0.0582, -0.0581, -0.1198, -0.1636,  0.0951, -0.0091,\n",
       "                      -0.1348, -0.0203,  0.0435,  0.0333, -0.0880, -0.0005, -0.0373,  0.2034,\n",
       "                      -0.0346,  0.0038,  0.1100,  0.0151, -0.0034, -0.0855, -0.0835,  0.0318,\n",
       "                      -0.0772, -0.0756, -0.0747, -0.0501, -0.1107, -0.0531, -0.0747,  0.0502,\n",
       "                      -0.0495, -0.1400,  0.0748,  0.0821,  0.0405, -0.0231,  0.1026,  0.0143,\n",
       "                      -0.0808, -0.0493, -0.0272, -0.0369, -0.0282, -0.0778,  0.0643,  0.0189,\n",
       "                       0.1675, -0.0771, -0.0160,  0.0033,  0.0280, -0.0062, -0.0104, -0.0445,\n",
       "                       0.0639, -0.0402, -0.0443, -0.0908])),\n",
       "             ('fully_connected_layer2.weight',\n",
       "              tensor([[ 5.1710e-01, -3.5948e-01, -6.0170e-01, -6.2035e-01,  1.8257e-01,\n",
       "                        3.4238e-01, -1.9345e-01,  1.0767e-01,  4.2753e-01,  1.3352e-02,\n",
       "                        2.5252e-01,  3.5958e-01,  6.3863e-02,  3.8948e-01, -3.2755e-01,\n",
       "                        4.9621e-01, -3.9648e-01, -5.4240e-01,  6.7526e-02,  4.9022e-01,\n",
       "                        4.1456e-01, -3.8059e-01, -3.9895e-01, -2.7191e-01,  2.1212e-01,\n",
       "                       -4.7724e-01, -7.6952e-02,  5.1178e-01, -4.4872e-01, -7.6133e-01,\n",
       "                        1.1260e-01,  6.9437e-01,  1.2618e-01,  7.3484e-01,  9.6307e-02,\n",
       "                        5.2292e-01, -1.4855e-01,  6.8312e-02,  1.8308e-02,  2.8291e-01,\n",
       "                        7.1213e-02,  1.1445e-01, -4.6973e-01,  1.2151e-02, -4.0919e-01,\n",
       "                        3.9991e-01,  4.3484e-02, -3.2481e-01,  2.3715e-01,  6.5756e-01,\n",
       "                        2.1439e-01, -2.1109e-01,  7.7416e-01, -3.5230e-02,  3.6927e-01,\n",
       "                        2.3488e-01,  1.2403e-01,  7.9110e-01,  2.9815e-01, -2.2223e-01,\n",
       "                        2.1994e-01,  2.0261e-01, -2.8578e-01, -1.5774e-01,  2.2698e-01,\n",
       "                        4.0930e-01,  6.7420e-01, -1.0858e-01,  6.0622e-02,  4.0350e-01,\n",
       "                       -7.0704e-02, -2.8001e-01, -7.7455e-01, -1.2203e-01, -3.5818e-01,\n",
       "                       -1.1247e-01,  3.5558e-02,  2.3047e-01, -4.0737e-01,  7.9825e-01,\n",
       "                        5.0424e-01,  1.1397e-01,  3.9479e-01, -1.1025e-02, -3.5775e-01,\n",
       "                        1.9892e-01, -9.3087e-02, -3.5831e-01, -9.9543e-01, -5.6537e-01,\n",
       "                       -3.6382e-01, -4.3424e-02,  7.9266e-02, -1.2902e-01, -2.9610e-03,\n",
       "                        1.8405e-01, -2.2053e-01, -4.3900e-01, -6.4708e-01, -1.0878e-01],\n",
       "                      [ 5.1231e-01,  3.8204e-01,  3.7910e-01, -4.5855e-01,  3.2637e-01,\n",
       "                        4.7773e-02,  7.8728e-01,  4.1515e-01,  1.7598e-01,  6.6314e-03,\n",
       "                       -1.1638e-01,  4.4869e-01, -4.9905e-01,  2.6987e-01,  4.8758e-01,\n",
       "                       -2.5555e-01, -1.7345e-01,  3.7035e-01,  6.1013e-01,  3.2162e-01,\n",
       "                        4.9895e-01,  1.3513e-01,  4.2883e-01,  5.1508e-01, -5.2721e-01,\n",
       "                        1.8393e-02, -4.4071e-01, -6.6684e-01, -1.3084e-02, -3.8018e-01,\n",
       "                       -6.1718e-01,  2.7162e-01, -5.4723e-01, -4.5456e-01,  1.1259e-01,\n",
       "                       -2.8171e-01,  4.2513e-01, -5.9740e-01, -5.0893e-01, -3.9267e-01,\n",
       "                        3.1577e-01,  4.8763e-01,  5.2398e-01, -1.8659e-01, -7.5500e-01,\n",
       "                       -5.7484e-02, -3.6893e-01,  5.9151e-01, -4.8508e-01, -3.9326e-02,\n",
       "                       -3.9903e-01,  6.0649e-01,  1.2714e-02,  3.9768e-01, -5.4333e-01,\n",
       "                        8.7387e-01,  2.6672e-01,  3.3345e-01,  4.4616e-01,  8.0322e-01,\n",
       "                        4.1407e-02, -5.3111e-01, -2.5690e-01,  2.7635e-01,  4.4384e-01,\n",
       "                        3.1903e-01, -1.8725e-01, -2.2990e-01, -2.5427e-01, -4.1536e-01,\n",
       "                        4.1476e-01,  5.0132e-01, -6.1708e-01, -1.4429e-01,  4.7334e-01,\n",
       "                       -3.1847e-01, -6.0643e-01, -5.0208e-01,  1.2926e-01,  1.5190e-01,\n",
       "                        1.9365e-01, -3.7032e-01, -2.7860e-01,  8.0967e-02, -8.5349e-01,\n",
       "                       -4.3363e-01,  2.6737e-01, -2.2766e-04,  1.6866e-01,  1.7967e-01,\n",
       "                        1.6583e-01,  1.8729e-01,  2.9502e-01, -7.8545e-01, -6.4881e-03,\n",
       "                       -8.7695e-01,  7.5200e-01,  2.4540e-01, -2.5697e-01, -6.4302e-01],\n",
       "                      [-6.1529e-02, -3.2994e-01, -6.1186e-01, -3.8980e-01, -5.7792e-02,\n",
       "                        5.3245e-01,  2.0319e-01,  2.6595e-01,  6.5830e-01, -4.0732e-01,\n",
       "                       -5.3252e-01,  6.8826e-01, -4.4505e-01, -8.2235e-01,  1.5501e-01,\n",
       "                        5.1344e-01, -8.6342e-02, -7.2403e-01, -8.3772e-01,  7.3597e-01,\n",
       "                        2.5138e-01,  5.7765e-01, -5.5816e-01,  1.3878e-01, -4.8633e-01,\n",
       "                        4.8246e-01,  1.5042e-01, -5.6103e-01,  2.9751e-01, -9.0817e-02,\n",
       "                       -6.2714e-01, -4.5139e-01, -1.8727e-01,  3.0638e-01, -8.1291e-01,\n",
       "                        2.7899e-01,  3.8366e-01,  2.7584e-01,  5.8646e-01,  3.1290e-01,\n",
       "                       -1.1933e+00,  2.1703e-01, -4.2593e-01,  3.4931e-01, -8.2189e-01,\n",
       "                        2.9864e-01, -4.7660e-01,  4.0127e-01,  2.2580e-01, -4.8686e-01,\n",
       "                       -2.2433e-01, -7.6183e-01, -6.3989e-02,  4.4371e-01,  5.6050e-01,\n",
       "                        5.4136e-02,  6.6364e-02, -3.2995e-01, -6.8525e-01, -3.5419e-01,\n",
       "                        8.5347e-01, -6.0420e-02,  3.2377e-01, -1.2565e-01, -5.9134e-01,\n",
       "                       -3.8582e-02,  2.2518e-02, -1.1016e-01,  3.2597e-01,  5.0997e-01,\n",
       "                       -5.8174e-01,  5.4707e-01, -7.6169e-01, -6.6276e-01, -8.3340e-01,\n",
       "                        1.0987e+00,  1.3194e-01, -7.3769e-01,  2.2013e-01,  3.9564e-01,\n",
       "                       -5.2289e-01, -1.7595e-03, -4.4189e-01,  4.5184e-01,  8.1459e-01,\n",
       "                       -4.3537e-01, -1.0885e+00, -1.4780e-01,  8.1332e-01, -9.7446e-01,\n",
       "                       -5.3764e-01, -5.6396e-01,  6.0863e-02,  6.4477e-01, -3.1228e-01,\n",
       "                       -3.4100e-01,  2.7079e-01, -1.1290e-01,  1.9053e-01, -7.0865e-01],\n",
       "                      [-2.2331e-01,  5.4278e-01, -5.6595e-01, -6.2171e-01, -1.0283e+00,\n",
       "                       -2.0235e-01, -5.4007e-01,  5.0565e-01,  5.3524e-01, -3.5917e-01,\n",
       "                        1.2383e-01, -5.8171e-01,  1.0287e+00, -9.9706e-02,  6.4881e-01,\n",
       "                       -5.3440e-02, -1.6126e-01,  5.8013e-02, -3.9120e-01, -5.3384e-01,\n",
       "                       -8.0433e-02,  8.0637e-01,  9.0046e-02,  5.6407e-01,  1.0142e+00,\n",
       "                       -1.0160e-01,  7.2482e-01, -8.4360e-02,  5.7624e-01,  8.2687e-02,\n",
       "                        5.4306e-01,  1.3463e-02,  4.7778e-01, -1.9207e-01,  3.7306e-01,\n",
       "                       -4.3104e-01, -2.9812e-01,  1.3616e-01, -1.1126e-01,  6.6643e-02,\n",
       "                        2.8887e-01,  4.4335e-01, -2.0978e-01, -5.1741e-01,  2.3015e-01,\n",
       "                        3.9600e-01,  1.0561e-01, -5.1416e-01,  3.3590e-01, -7.3316e-01,\n",
       "                       -5.7116e-02,  9.8247e-01, -7.7251e-01, -6.8038e-01,  6.2626e-01,\n",
       "                        7.0591e-01, -1.5423e-01, -8.6603e-01,  4.5598e-02,  6.9359e-01,\n",
       "                        3.7549e-01,  1.4166e-01, -2.2484e-01,  4.0611e-01, -4.4004e-02,\n",
       "                       -6.8675e-01, -8.9935e-01,  3.3347e-01,  8.5533e-01, -6.3226e-01,\n",
       "                       -3.2777e-01,  4.4697e-01,  1.0923e+00, -3.8781e-01,  5.8378e-01,\n",
       "                        1.7999e-01, -3.5257e-01,  6.1529e-01,  6.3283e-02, -5.5913e-01,\n",
       "                       -2.9319e-01, -5.1869e-01,  5.9818e-01,  3.9893e-01, -3.1513e-01,\n",
       "                       -4.1009e-01, -5.9311e-01,  6.9116e-01,  6.1554e-01,  3.5340e-01,\n",
       "                       -4.8454e-01,  1.0333e+00,  3.5624e-01, -3.0509e-01, -1.9542e-02,\n",
       "                       -4.9211e-01,  3.8492e-01,  4.7423e-01,  4.6630e-01,  5.0168e-01],\n",
       "                      [-4.9609e-01,  4.1816e-02,  6.2122e-01,  5.2912e-01,  3.7364e-01,\n",
       "                       -3.2244e-01, -1.8074e-01, -6.1066e-01,  2.3640e-01,  4.5341e-01,\n",
       "                        7.2596e-01, -9.0081e-02, -5.0601e-02, -5.2416e-02,  5.4256e-01,\n",
       "                       -8.2864e-02, -8.6597e-02,  3.8159e-01,  2.7418e-01,  3.5419e-01,\n",
       "                       -5.5551e-01, -2.6169e-01,  6.7246e-01,  3.4544e-01,  8.6658e-02,\n",
       "                        6.6826e-01, -5.7589e-01, -6.2493e-01,  7.6111e-01,  3.6399e-02,\n",
       "                        4.9260e-01, -4.4004e-01, -6.6674e-01, -2.8993e-01,  3.7622e-01,\n",
       "                       -4.7557e-01, -3.9212e-01,  1.4574e-01, -8.4826e-01, -2.8965e-01,\n",
       "                        2.2191e-01, -1.8695e-02,  2.3214e-01,  3.9571e-01,  2.9074e-01,\n",
       "                       -1.5623e-01,  6.2227e-01,  5.9518e-01, -3.3913e-01,  9.6352e-01,\n",
       "                        5.7456e-01,  4.6189e-01,  9.9977e-01,  1.3901e-01, -2.6428e-01,\n",
       "                       -4.6109e-02,  1.9970e-01, -3.8072e-01, -6.1636e-01, -2.9650e-01,\n",
       "                       -5.1296e-02, -9.3756e-01,  9.9150e-01, -6.3946e-01,  4.5440e-01,\n",
       "                        5.8275e-01,  4.4389e-01,  8.4045e-03, -5.4660e-01,  2.5371e-01,\n",
       "                        6.0625e-01,  1.7949e-01,  1.9316e-01,  1.9132e-01, -4.0150e-01,\n",
       "                       -2.6049e-01, -7.4973e-01,  4.2579e-01, -4.3606e-01,  2.1127e-01,\n",
       "                       -6.0895e-01,  5.4999e-01, -1.2280e+00,  3.8847e-01,  8.1528e-01,\n",
       "                        6.0210e-01,  2.8188e-01, -4.3096e-01, -3.4521e-01, -2.4848e-02,\n",
       "                        6.1617e-01,  1.3972e-01,  7.7736e-01,  2.2846e-02, -8.8157e-01,\n",
       "                        1.1977e-01, -9.4843e-01,  4.6895e-01, -5.7289e-01,  2.8873e-01],\n",
       "                      [-6.6796e-01, -4.8934e-01,  8.1194e-01,  4.6841e-01,  3.7098e-01,\n",
       "                        2.3953e-01,  9.7760e-02, -4.1383e-02, -1.0535e+00, -2.9913e-01,\n",
       "                       -1.0603e-01, -4.3368e-01,  6.9868e-01, -1.1044e-01, -1.0633e+00,\n",
       "                       -4.9364e-01,  6.1429e-01,  3.3941e-01, -4.7741e-01, -7.9887e-01,\n",
       "                       -3.4555e-01, -8.4428e-01,  4.1079e-02, -1.3149e+00,  5.6179e-01,\n",
       "                       -5.5542e-01,  7.9051e-01,  7.4962e-01, -1.1703e-01, -5.6661e-02,\n",
       "                        3.5563e-01, -7.3092e-01, -4.3988e-02, -2.1852e-01,  9.0667e-02,\n",
       "                        4.6389e-01,  1.6630e-01,  4.4506e-01,  4.2586e-02, -1.3608e+00,\n",
       "                        6.0679e-02, -6.1869e-01, -3.7912e-02, -5.5238e-01, -6.5486e-02,\n",
       "                        2.2121e-01,  2.7059e-01, -1.4897e-01, -3.1979e-01,  2.2780e-02,\n",
       "                        1.5402e-02, -6.9732e-01, -1.6359e-01, -4.5430e-01, -5.8738e-01,\n",
       "                       -2.0465e-01,  2.4982e-01, -7.0314e-02,  1.4229e+00,  5.9717e-01,\n",
       "                       -8.8939e-01, -8.7829e-02, -5.1055e-01,  8.9159e-01, -6.3112e-01,\n",
       "                       -8.5984e-01,  1.7592e-01,  1.1500e-01, -6.4803e-01, -5.1536e-01,\n",
       "                       -2.8684e-01, -3.0986e-01,  3.3416e-01, -4.5899e-01,  1.9728e-01,\n",
       "                       -5.6279e-01,  7.8737e-02,  2.2939e-01, -2.3389e-01, -8.0562e-01,\n",
       "                       -2.1249e-01,  3.9200e-01,  5.2733e-01, -5.0912e-01,  3.6094e-02,\n",
       "                        3.6645e-01,  7.3443e-01,  3.0923e-01,  7.5913e-01,  5.2076e-01,\n",
       "                       -8.0087e-01,  3.6804e-01, -7.6521e-01, -5.3401e-01,  1.0474e-01,\n",
       "                        1.1040e+00,  4.5509e-02, -5.5425e-01,  4.1722e-01,  3.0869e-01],\n",
       "                      [-4.7113e-01, -2.7950e-01,  7.0079e-01, -5.2707e-01, -5.0064e-01,\n",
       "                        1.7389e-01,  6.8417e-01, -1.8859e-01, -7.8602e-01, -7.7965e-01,\n",
       "                        3.5860e-02, -5.1178e-01, -3.2258e-01,  8.4682e-02, -1.2403e-01,\n",
       "                        4.2228e-01, -9.5805e-01,  2.0944e-01,  8.9541e-01,  4.2587e-01,\n",
       "                        1.0008e+00, -4.2008e-01,  6.0120e-01, -6.9915e-01, -5.3569e-01,\n",
       "                       -2.7318e-01, -1.0717e-01,  2.0112e-01,  1.6282e-01, -3.1379e-01,\n",
       "                       -4.1036e-01,  4.0659e-01, -6.3021e-01,  4.2482e-01, -2.2719e-01,\n",
       "                       -3.1278e-02,  4.5102e-02,  3.9880e-01, -3.8793e-01, -1.6032e-01,\n",
       "                        2.5260e-01, -5.5906e-01, -3.9092e-01,  3.9445e-01,  5.9519e-01,\n",
       "                       -4.6026e-01, -5.3151e-02,  4.9154e-01,  5.3930e-01, -5.9651e-01,\n",
       "                       -3.5681e-01, -2.3360e-01, -4.3936e-01,  9.6871e-02, -7.3076e-01,\n",
       "                       -9.1616e-01,  4.2795e-01,  3.7303e-01,  1.1404e-01, -3.8554e-01,\n",
       "                       -2.2427e-01,  7.4336e-03,  3.0116e-01,  2.3876e-01,  1.7157e-01,\n",
       "                        2.0262e-01,  4.1678e-01,  4.3945e-01,  2.7056e-02,  8.5645e-02,\n",
       "                       -1.8524e-03, -7.0420e-01, -2.7892e-01,  4.4788e-02, -3.1707e-01,\n",
       "                        5.8622e-02,  3.2488e-01, -6.7848e-01,  5.3134e-01, -2.6156e-02,\n",
       "                        2.3706e-01,  5.6479e-01,  9.6268e-03, -7.9523e-02,  3.5461e-01,\n",
       "                        6.4355e-01,  8.0775e-01,  5.8565e-01, -1.1497e+00, -3.3355e-01,\n",
       "                        4.5228e-01, -4.4005e-01, -1.0002e+00, -2.3727e-01, -3.8896e-01,\n",
       "                        2.7768e-01, -4.2422e-01,  2.6256e-01,  6.9328e-01, -9.4994e-02],\n",
       "                      [ 1.0009e-01,  2.7681e-01, -3.7563e-01,  4.0808e-01,  1.6401e-01,\n",
       "                        5.1644e-01, -7.1336e-01,  6.5022e-01, -1.6257e-01,  9.7276e-01,\n",
       "                       -5.2716e-02,  8.1635e-01,  2.6409e-01,  6.9964e-01,  1.2603e-01,\n",
       "                       -5.8009e-01,  7.7479e-01, -5.8146e-01,  2.8197e-01, -8.3301e-01,\n",
       "                       -8.0804e-01, -2.5291e-01,  8.4363e-02,  6.5583e-02,  3.5298e-01,\n",
       "                        3.4908e-01, -3.1740e-01, -2.9402e-01, -1.9520e-03,  1.0480e+00,\n",
       "                       -4.6109e-01,  1.8469e-01,  7.4875e-01,  7.0104e-01,  7.9304e-01,\n",
       "                        8.3388e-01, -4.2672e-01, -1.4058e+00,  9.5797e-02,  6.9503e-01,\n",
       "                       -7.4223e-01,  3.6459e-01,  8.1079e-01, -7.9313e-02, -1.2579e-02,\n",
       "                       -1.0642e+00,  2.5792e-01, -4.1108e-01, -8.5977e-01,  6.2852e-02,\n",
       "                       -1.5723e-01,  3.6989e-01, -7.9987e-01, -5.3964e-01, -2.0858e-02,\n",
       "                        8.3095e-01, -9.8608e-01,  2.7426e-01,  6.9181e-02, -6.1600e-01,\n",
       "                        3.1052e-01,  1.6410e-01, -2.6551e-01, -6.9545e-01,  2.9249e-01,\n",
       "                       -4.1011e-01, -6.6141e-01, -1.1243e+00,  6.7810e-01,  4.4333e-01,\n",
       "                        3.6393e-01,  6.6588e-01,  6.0724e-01,  3.4416e-01,  7.8418e-01,\n",
       "                        2.4282e-01,  4.2780e-01,  4.5808e-02,  3.7649e-01,  4.7668e-01,\n",
       "                        1.3630e-01, -6.9703e-01, -2.0874e-01, -4.0320e-01, -2.9385e-01,\n",
       "                       -1.8096e-01,  2.2437e-01, -3.0703e-01,  2.7677e-01, -2.8739e-01,\n",
       "                        1.0465e+00, -1.1830e-01, -3.6219e-01,  5.3537e-01,  4.9863e-01,\n",
       "                       -1.6060e-01,  4.6014e-01, -7.5832e-01, -3.4665e-01,  1.3536e-01],\n",
       "                      [ 3.8290e-01, -4.9869e-01, -4.8051e-01,  3.8677e-01,  2.3648e-01,\n",
       "                       -6.9814e-01, -4.6207e-01, -3.7570e-01, -3.5301e-01,  6.1554e-01,\n",
       "                        2.4866e-01, -4.1815e-01, -6.3531e-01,  6.1654e-01, -5.7872e-02,\n",
       "                       -5.0180e-02,  6.4760e-01,  1.7989e-01,  7.9237e-02, -2.7314e-01,\n",
       "                       -1.7178e-01,  9.0433e-01, -2.6789e-01,  4.0291e-01, -2.3195e-01,\n",
       "                        2.1571e-01,  2.7301e-01,  3.1101e-01, -1.8120e-01,  3.6684e-01,\n",
       "                        2.6746e-01, -6.7289e-02,  2.3928e-01, -4.0596e-01, -9.0373e-01,\n",
       "                       -3.1149e-01,  6.2649e-01,  4.0760e-01,  2.1919e-01,  6.6637e-01,\n",
       "                        2.9362e-01, -5.1862e-01,  2.3041e-01,  5.9409e-01,  8.5974e-01,\n",
       "                       -1.8606e-01, -7.0423e-01,  2.6670e-01,  9.2050e-01, -3.4575e-01,\n",
       "                       -5.4819e-01, -1.6022e-01,  2.7808e-02,  1.7893e-01,  1.3370e-01,\n",
       "                       -7.4095e-01,  4.0444e-02,  3.5234e-01, -9.5518e-01, -4.8812e-01,\n",
       "                       -7.9077e-01,  4.6564e-01, -2.4420e-02,  3.0336e-01, -6.4832e-01,\n",
       "                        4.6257e-01,  4.2323e-01,  9.0199e-02,  4.0048e-01,  4.4007e-01,\n",
       "                       -5.4788e-01, -1.1801e-01,  2.4164e-01,  9.1730e-01, -4.1758e-02,\n",
       "                       -5.1243e-01,  5.9367e-01, -1.1066e-01, -6.5977e-01, -1.3419e-01,\n",
       "                        1.0069e-01,  4.6565e-01, -2.7210e-02,  1.5139e-01, -6.7870e-01,\n",
       "                        2.4404e-01, -1.9786e-01, -2.5766e-01,  9.7886e-02,  4.3218e-01,\n",
       "                       -4.2521e-01, -6.1925e-01,  2.1081e-02,  4.9263e-01,  2.3082e-01,\n",
       "                        2.6650e-01,  2.7761e-01, -2.6476e-01,  3.0491e-01,  3.6632e-01],\n",
       "                      [ 5.2582e-01,  6.2535e-01,  3.3034e-01,  7.3351e-01, -3.8518e-02,\n",
       "                       -6.2065e-01,  2.7100e-01, -6.4312e-01,  3.3307e-01, -2.0164e-01,\n",
       "                       -7.9601e-01, -3.9789e-01, -6.4324e-02, -9.6505e-01, -3.0080e-01,\n",
       "                       -2.2520e-02, -1.6366e-01,  5.4739e-01, -4.2041e-01,  1.0838e-01,\n",
       "                       -1.9647e-01, -3.4453e-01, -7.4198e-01,  3.6565e-01, -3.5214e-01,\n",
       "                       -3.6885e-01, -4.6879e-01,  3.5355e-01, -9.0782e-01,  2.3392e-01,\n",
       "                        2.4792e-01, -2.1991e-03,  5.4899e-01, -7.6184e-01,  4.6522e-01,\n",
       "                       -6.3521e-01, -5.3922e-01,  1.5191e-01,  8.4934e-01,  1.5914e-01,\n",
       "                        6.5785e-01,  2.5111e-01, -4.6606e-02, -6.3717e-01,  7.9140e-02,\n",
       "                        7.7866e-01,  3.8057e-01, -7.8213e-01, -2.8608e-01,  5.5213e-01,\n",
       "                        8.1101e-01, -3.8935e-01,  5.7650e-01,  2.3770e-01,  2.8247e-01,\n",
       "                       -6.1804e-01, -2.6783e-01, -4.2956e-01, -3.6583e-01, -1.0436e-01,\n",
       "                       -1.1334e-02,  7.0369e-01, -1.7282e-03, -3.6460e-01,  4.0940e-01,\n",
       "                        1.4736e-01, -1.9470e-01,  7.8459e-01, -9.3675e-01, -4.9838e-01,\n",
       "                        5.6179e-01, -8.8171e-01, -1.3371e-01,  7.9830e-02, -1.4375e-01,\n",
       "                        1.3430e-01,  1.8877e-01,  3.0531e-01,  4.7049e-01, -4.9449e-01,\n",
       "                        6.1593e-01, -7.2246e-01,  7.0325e-01, -3.7001e-01,  5.8559e-01,\n",
       "                       -6.3836e-01, -1.8667e-01, -2.6532e-01,  2.5687e-02,  7.0292e-01,\n",
       "                        2.8876e-01,  3.6376e-01,  3.6769e-01, -3.9230e-02,  8.2794e-01,\n",
       "                        1.6928e-01, -6.6117e-01,  7.0535e-01, -2.2148e-01, -2.4099e-01]])),\n",
       "             ('fully_connected_layer2.bias',\n",
       "              tensor([-0.1223,  0.2910,  0.2909,  0.0902, -0.1770,  0.4113, -0.0849,  0.3471,\n",
       "                      -0.7631, -0.2849]))])"
      ]
     },
     "execution_count": 93,
     "metadata": {},
     "output_type": "execute_result"
    }
   ],
   "source": [
    "model_dict"
   ]
  },
  {
   "cell_type": "code",
   "execution_count": 94,
   "id": "4f8c3ab1-9869-4b7f-a18a-466ffdd7b3da",
   "metadata": {},
   "outputs": [
    {
     "data": {
      "image/png": "[encoded data removed]",
      "text/plain": [
       "<Figure size 432x288 with 5 Axes>"
      ]
     },
     "metadata": {
      "needs_background": "light"
     },
     "output_type": "display_data"
    }
   ],
   "source": [
    "fig,(ax1,ax2,ax3,ax4,ax5)=plt.subplots(nrows=1,ncols=5)\n",
    "for i,ax in enumerate([ax1,ax2,ax3,ax4,ax5]):\n",
    "    ax.imshow(model_dict['conv_layer.weight'][i].squeeze(dim=0),cmap='gray')"
   ]
  },
  {
   "cell_type": "code",
   "execution_count": 15,
   "id": "8859dc10-e7ce-4099-8606-c318169aac73",
   "metadata": {},
   "outputs": [
    {
     "data": {
      "text/plain": [
       "<All keys matched successfully>"
      ]
     },
     "execution_count": 15,
     "metadata": {},
     "output_type": "execute_result"
    }
   ],
   "source": [
    "model2=ConvNet()\n",
    "model2.load_state_dict(torch.load('params'))"
   ]
  },
  {
   "cell_type": "code",
   "execution_count": 16,
   "id": "2fe48079-7f49-4191-9085-f3098bb50b5f",
   "metadata": {},
   "outputs": [
    {
     "data": {
      "text/plain": [
       "OrderedDict([('conv_layer.weight',\n",
       "              tensor([[[[-0.2030, -0.8651, -0.7642, -0.1423, -0.3536],\n",
       "                        [-1.8798, -0.1505,  0.8105,  0.7781,  0.1633],\n",
       "                        [-1.2740,  1.3972,  0.9516,  0.7018, -0.2400],\n",
       "                        [ 0.7172,  1.1572,  0.1489,  1.2499,  0.7846],\n",
       "                        [-0.5489, -0.7109, -0.5245,  1.3439,  1.0424]]],\n",
       "              \n",
       "              \n",
       "                      [[[-1.1130, -0.6436, -0.3769, -0.9941, -1.4729],\n",
       "                        [-0.2437, -1.1164, -1.0437, -1.5121, -1.3858],\n",
       "                        [ 0.8376,  0.1136,  0.3002,  0.3553, -0.1792],\n",
       "                        [ 0.5741,  0.6070,  0.7928,  0.9778,  0.2901],\n",
       "                        [ 0.1330,  0.3488,  0.5451,  0.7203,  1.6705]]],\n",
       "              \n",
       "              \n",
       "                      [[[-0.2092, -0.6047, -0.2038,  0.1948,  1.3710],\n",
       "                        [ 0.3545,  0.5218,  0.6004,  0.8289,  0.6659],\n",
       "                        [ 0.9258,  1.1569,  1.0175,  0.2104, -0.5066],\n",
       "                        [-0.3971,  0.4281, -0.7981, -1.0317, -1.0004],\n",
       "                        [-2.2537, -1.5406, -1.3362, -0.3596, -0.1307]]],\n",
       "              \n",
       "              \n",
       "                      [[[-0.0533,  0.6869,  0.5715,  0.5263,  0.5843],\n",
       "                        [-0.8888,  0.2082,  0.5139,  0.5485,  0.8536],\n",
       "                        [-2.2414, -1.2933, -0.3358, -0.1295,  0.4218],\n",
       "                        [-1.2190, -2.6483, -3.2531, -2.3220, -1.1893],\n",
       "                        [ 1.9165,  1.2163,  0.6493,  0.5319, -0.7666]]],\n",
       "              \n",
       "              \n",
       "                      [[[ 1.8183, -0.7518, -1.4976, -1.8400, -2.6274],\n",
       "                        [-1.6659, -2.6514, -1.4087, -0.1681,  0.1627],\n",
       "                        [-2.0760, -0.3498,  0.5278,  0.3833,  0.6847],\n",
       "                        [-1.6408,  0.2376,  0.2333, -0.2086,  0.6216],\n",
       "                        [-0.0181,  0.4433,  0.3089,  0.4112,  0.6789]]]])),\n",
       "             ('conv_layer.bias',\n",
       "              tensor([-0.8235, -0.2940, -1.0858, -0.4123, -0.2966])),\n",
       "             ('fully_connected_layer.weight',\n",
       "              tensor([[ 0.0045, -0.0006,  0.0237,  ...,  0.2635,  0.1647,  0.1300],\n",
       "                      [ 0.1008,  0.1088, -0.0335,  ..., -0.0329,  0.0651,  0.0193],\n",
       "                      [-0.1759, -0.1156,  0.0057,  ..., -0.1165, -0.0962, -0.1466],\n",
       "                      ...,\n",
       "                      [ 0.0010, -0.0243, -0.0560,  ...,  0.0534,  0.0582, -0.0630],\n",
       "                      [-0.0479, -0.1550,  0.0121,  ...,  0.0037, -0.0338,  0.0872],\n",
       "                      [ 0.1076,  0.0962, -0.0013,  ..., -0.1252, -0.3483,  0.1302]])),\n",
       "             ('fully_connected_layer.bias',\n",
       "              tensor([-0.1879,  0.0612,  0.3579,  0.1275, -0.2437,  0.5303, -0.1346,  0.2658,\n",
       "                      -0.4026, -0.3922]))])"
      ]
     },
     "execution_count": 16,
     "metadata": {},
     "output_type": "execute_result"
    }
   ],
   "source": [
    "model2.state_dict()"
   ]
  },
  {
   "cell_type": "code",
   "execution_count": 95,
   "id": "5c27a680-1f52-4b69-ad9b-3c1d20fe5b80",
   "metadata": {},
   "outputs": [],
   "source": [
    "#Testing the classification accuracy on the test set:\n",
    "test_dataloader=DataLoader(dataset=Test_imgs,batch_size=10000)\n",
    "Inputs,Outputs=test_dataloader.__iter__().__next__()"
   ]
  },
  {
   "cell_type": "code",
   "execution_count": 96,
   "id": "106b54b8-f618-4744-ae10-d84565b16cd0",
   "metadata": {},
   "outputs": [
    {
     "data": {
      "text/plain": [
       "torch.Size([10000, 1, 28, 28])"
      ]
     },
     "execution_count": 96,
     "metadata": {},
     "output_type": "execute_result"
    }
   ],
   "source": [
    "Inputs.shape"
   ]
  },
  {
   "cell_type": "code",
   "execution_count": 98,
   "id": "5517e342-14f0-422e-b5c1-fbe7efa81102",
   "metadata": {},
   "outputs": [
    {
     "name": "stdout",
     "output_type": "stream",
     "text": [
      "Accuracy on the test set is 9858/10000\n"
     ]
    }
   ],
   "source": [
    "Y=model(Inputs)\n",
    "predictions=Y.max(dim=1)[1]\n",
    "print(f'Accuracy on the test set is {accuracy(predictions,Outputs)}/10000')"
   ]
  },
  {
   "cell_type": "code",
   "execution_count": 127,
   "id": "e3c1b79d-faf6-4df4-9ac0-a27071715eae",
   "metadata": {},
   "outputs": [],
   "source": [
    "def WrongClassifications(predictions,labels):\n",
    "    i=0\n",
    "    wrong_cl=[]\n",
    "    for p,l in zip(predictions,labels):\n",
    "        if p!=l:\n",
    "            wrong_cl.append((i,p,l))\n",
    "        i+=1\n",
    "    return wrong_cl            "
   ]
  },
  {
   "cell_type": "code",
   "execution_count": 128,
   "id": "58992709-5515-4621-a324-64cf78a2a4f5",
   "metadata": {},
   "outputs": [],
   "source": [
    "mistakes=WrongClassifications(predictions,Outputs)"
   ]
  },
  {
   "cell_type": "code",
   "execution_count": 159,
   "id": "88a81399-5ec6-46ac-8507-a27eaa703038",
   "metadata": {},
   "outputs": [],
   "source": [
    "import random"
   ]
  },
  {
   "cell_type": "code",
   "execution_count": 158,
   "id": "636da3d7-e276-4fbf-b237-daf8fde9ba65",
   "metadata": {},
   "outputs": [
    {
     "data": {
      "text/plain": [
       "(tensor(7), tensor(2))"
      ]
     },
     "execution_count": 158,
     "metadata": {},
     "output_type": "execute_result"
    },
    {
     "data": {
      "image/png": "[encoded data removed]",
      "text/plain": [
       "<Figure size 432x288 with 1 Axes>"
      ]
     },
     "metadata": {
      "needs_background": "light"
     },
     "output_type": "display_data"
    }
   ],
   "source": [
    "#Viewing some of the images that were wrongly classified by the network\n",
    "index,pred,lbl=random.choice(mistakes)\n",
    "plt.imshow(Inputs[index].squeeze(dim=0),cmap='gray')\n",
    "(pred,lbl)"
   ]
  },
  {
   "cell_type": "code",
   "execution_count": null,
   "id": "4d466a6f-f9f1-44c3-b1ba-0aaf00920d9e",
   "metadata": {},
   "outputs": [],
   "source": []
  }
 ],
 "metadata": {
  "kernelspec": {
   "display_name": "Python 3 (ipykernel)",
   "language": "python",
   "name": "python3"
  },
  "language_info": {
   "codemirror_mode": {
    "name": "ipython",
    "version": 3
   },
   "file_extension": ".py",
   "mimetype": "text/x-python",
   "name": "python",
   "nbconvert_exporter": "python",
   "pygments_lexer": "ipython3",
   "version": "3.10.8"
  }
 },
 "nbformat": 4,
 "nbformat_minor": 5
}
